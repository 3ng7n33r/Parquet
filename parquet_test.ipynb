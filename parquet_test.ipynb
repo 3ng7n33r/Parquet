{
 "cells": [
  {
   "cell_type": "markdown",
   "metadata": {},
   "source": [
    "Prerequis :\n",
    "===========\n",
    "Téléchargement\n",
    "----------------\n",
    "wget ftp://ftp.1000genomes.ebi.ac.uk/vol1/ftp/data_collections/1000_genomes_project/release/20190312_biallelic_SNV_and_INDEL/ALL.wgs.shapeit2_integrated_snvindels_v2a.GRCh38.27022019.sites.vcf.gz\n",
    "\n",
    "Decompression\n",
    "-------------\n",
    "gzip -d ALL.wgs.shapeit2_integrated_snvindels_v2a.GRCh38.27022019.sites.vcf.gz\n",
    "\n",
    "Créer un dossier db à la racine du projet au même niveau que parquet_project"
   ]
  },
  {
   "cell_type": "code",
   "execution_count": 3,
   "metadata": {},
   "outputs": [],
   "source": [
    "import polars as pl\n",
    "import duckdb"
   ]
  },
  {
   "cell_type": "markdown",
   "metadata": {},
   "source": [
    "- Lisez le fichier VCF comme un CSV avec pl.scan_csv\n",
    "- Sélectionner les colonnes CHROM, POS, REF, ALT\n",
    "- Écrire le fichier variants.parquet avec sink_parquet\n",
    "- Add a unique ID column"
   ]
  },
  {
   "cell_type": "code",
   "execution_count": 30,
   "metadata": {},
   "outputs": [
    {
     "name": "stderr",
     "output_type": "stream",
     "text": [
      "/tmp/ipykernel_225897/658853539.py:17: DeprecationWarning: The old streaming engine is being deprecated and will soon be replaced by the new streaming engine. Starting Polars version 1.23.0 and until the new streaming engine is released, the old streaming engine may become less usable. For people who rely on the old streaming engine, it is suggested to pin your version to before 1.23.0.\n",
      "\n",
      "More information on the new streaming engine: https://github.com/pola-rs/polars/issues/20947\n",
      "  ).sink_parquet(                         # Écriture du fichier parquet\n"
     ]
    }
   ],
   "source": [
    "pl.scan_csv(\n",
    "    \"ALL.wgs.shapeit2_integrated_snvindels_v2a.GRCh38.27022019.sites.vcf\",\n",
    "    skip_rows=40,                       # Je saute les 40 premieres lignes de commentaires\n",
    "    separator=\"\\t\",                           # Séparateur TSV\n",
    "    schema_overrides={\"#CHROM\": pl.Utf8},         # Je précise le type, sinon la colonne est considérée comme un int\n",
    ").with_row_index(\n",
    ").select([\n",
    "    pl.col(\"index\"),\n",
    "    pl.col(\"#CHROM\").alias(\"CHROM\"),    # Je renomme ici la colonne avec alias\n",
    "    pl.col(\"POS\"),\n",
    "    pl.col(\"REF\"),\n",
    "    pl.col(\"ALT\"),\n",
    "    pl.col(\"QUAL\"),\n",
    "    pl.col(\"FILTER\"),\n",
    "    pl.col(\"INFO\"),\n",
    "    ]\n",
    ").sink_parquet(                         # Écriture du fichier parquet \n",
    "    \"db/variants.parquet\"\n",
    ")"
   ]
  },
  {
   "cell_type": "markdown",
   "metadata": {},
   "source": [
    "✅ Ce qu’il faut savoir sur le streaming avec Polars\n",
    "----------------------------------------------------\n",
    "Le moteur de streaming actuel (avant 1.23) fonctionne, mais il est marqué comme \"deprecated\" car l’équipe Polars travaille sur une nouvelle version plus robuste.  \n",
    "Pour le moment, il n’y a pas d’alternative dans Polars pour gérer ce type de fichiers en streaming. Donc même si tu vois le warning, tu peux continuer à l’utiliser."
   ]
  },
  {
   "cell_type": "markdown",
   "metadata": {},
   "source": [
    "- Les fonctions scan_csv et sink_csv permettent de faire la transformation du VCF sans le charger en mémoire. \n",
    "- Regardez aussi les tailles du fichier. 225Mo pour le fichier parquet et 1.3Go pour son équivalent en CSV. \n",
    "- En effet, les fichiers parquets sont compressés naturellement du fait du modèle orienté colonne."
   ]
  },
  {
   "cell_type": "markdown",
   "metadata": {},
   "source": [
    "Requête SQL avec DuckDB\n",
    "-----------------------\n",
    "À présent essayez de requêter sur ce fichier. Nous pourrions le faire avec pola.rs, mais nous allons plutôt faire une requête SQL en utilisant duckDB.\n",
    "\n",
    "Pour exécuter une requête SQL sur un fichier parquet, il suffit de considérer le fichier comme le nom d'une table SQL :"
   ]
  },
  {
   "cell_type": "code",
   "execution_count": 21,
   "metadata": {},
   "outputs": [
    {
     "data": {
      "text/plain": [
       "┌──────────────┐\n",
       "│ count_star() │\n",
       "│    int64     │\n",
       "├──────────────┤\n",
       "│     78229218 │\n",
       "└──────────────┘"
      ]
     },
     "execution_count": 21,
     "metadata": {},
     "output_type": "execute_result"
    }
   ],
   "source": [
    "duckdb.sql(\"SELECT count(*) FROM 'db/variants.parquet'\")"
   ]
  },
  {
   "cell_type": "code",
   "execution_count": 31,
   "metadata": {},
   "outputs": [
    {
     "data": {
      "text/plain": [
       "┌────────┬─────────┬─────────┬─────────┬─────────┬─────────┬─────────┬───────────────────────────────────────────────────────────────────────────────────────────────────────────────┐\n",
       "│ index  │  CHROM  │   POS   │   REF   │   ALT   │  QUAL   │ FILTER  │                                                     INFO                                                      │\n",
       "│ uint32 │ varchar │  int64  │ varchar │ varchar │ varchar │ varchar │                                                    varchar                                                    │\n",
       "├────────┼─────────┼─────────┼─────────┼─────────┼─────────┼─────────┼───────────────────────────────────────────────────────────────────────────────────────────────────────────────┤\n",
       "│      0 │ 1       │   10416 │ CCCTAA  │ C       │ .       │ PASS    │ AC=240;AN=5096;DP=365460;AF=0.05;EAS_AF=0.06;EUR_AF=0.07;AFR_AF=0.01;AMR_AF=0.06;SAS_AF=0.05;VT=INDEL;NS=2548 │\n",
       "│      1 │ 1       │   16103 │ T       │ G       │ .       │ PASS    │ AC=118;AN=5096;DP=29994;AF=0.02;EAS_AF=0;EUR_AF=0.04;AFR_AF=0.03;AMR_AF=0.03;SAS_AF=0.01;VT=SNP;NS=2548       │\n",
       "│      2 │ 1       │   17496 │ AC      │ A       │ .       │ PASS    │ AC=25;AN=5096;DP=189765;AF=0;EAS_AF=0;EUR_AF=0;AFR_AF=0.02;AMR_AF=0;SAS_AF=0;VT=INDEL;NS=2548                 │\n",
       "│      3 │ 1       │   51479 │ T       │ A       │ .       │ PASS    │ AC=531;AN=5096;DP=17461;AF=0.1;EAS_AF=0;EUR_AF=0.19;AFR_AF=0.02;AMR_AF=0.11;SAS_AF=0.23;VT=SNP;NS=2548        │\n",
       "│      4 │ 1       │   51898 │ C       │ A       │ .       │ PASS    │ AC=426;AN=5096;DP=15331;AF=0.08;EAS_AF=0.05;EUR_AF=0.14;AFR_AF=0.06;AMR_AF=0.06;SAS_AF=0.11;VT=SNP;NS=2548    │\n",
       "│      5 │ 1       │   51928 │ G       │ A       │ .       │ PASS    │ AC=367;AN=5096;DP=17022;AF=0.07;EAS_AF=0.01;EUR_AF=0.14;AFR_AF=0.05;AMR_AF=0.06;SAS_AF=0.09;VT=SNP;NS=2548    │\n",
       "│      6 │ 1       │   51954 │ G       │ C       │ .       │ PASS    │ AC=1;AN=5096;DP=18469;AF=0;EAS_AF=0;EUR_AF=0;AFR_AF=0;AMR_AF=0;SAS_AF=0;VT=SNP;NS=2548                        │\n",
       "│      7 │ 1       │   54490 │ G       │ A       │ .       │ PASS    │ AC=494;AN=5096;DP=24006;AF=0.1;EAS_AF=0;EUR_AF=0.18;AFR_AF=0.02;AMR_AF=0.1;SAS_AF=0.21;VT=SNP;NS=2548         │\n",
       "│      8 │ 1       │   54669 │ C       │ T       │ .       │ PASS    │ AC=1;AN=5096;DP=23532;AF=0;EAS_AF=0;EUR_AF=0;AFR_AF=0;AMR_AF=0;SAS_AF=0;VT=SNP;NS=2548                        │\n",
       "│      9 │ 1       │   54708 │ G       │ C       │ .       │ PASS    │ AC=1198;AN=5096;DP=23694;AF=0.24;EAS_AF=0.07;EUR_AF=0.39;AFR_AF=0.19;AMR_AF=0.27;SAS_AF=0.29;VT=SNP;NS=2548   │\n",
       "│      · │ ·       │     ·   │ ·       │ ·       │ ·       │  ·      │                                             ·                                                                 │\n",
       "│      · │ ·       │     ·   │ ·       │ ·       │ ·       │  ·      │                                             ·                                                                 │\n",
       "│      · │ ·       │     ·   │ ·       │ ·       │ ·       │  ·      │                                             ·                                                                 │\n",
       "│   9990 │ 1       │ 1085650 │ G       │ A       │ .       │ PASS    │ AC=7;AN=5096;DP=28976;AF=0;EAS_AF=0;EUR_AF=0;AFR_AF=0.01;AMR_AF=0;SAS_AF=0;VT=SNP;NS=2548                     │\n",
       "│   9991 │ 1       │ 1085653 │ G       │ A       │ .       │ PASS    │ AC=9;AN=5096;DP=29662;AF=0;EAS_AF=0;EUR_AF=0;AFR_AF=0.01;AMR_AF=0;SAS_AF=0;VT=SNP;NS=2548                     │\n",
       "│   9992 │ 1       │ 1085692 │ G       │ A       │ .       │ PASS    │ AC=1;AN=5096;DP=38572;AF=0;EAS_AF=0;EUR_AF=0;AFR_AF=0;AMR_AF=0;SAS_AF=0;VT=SNP;NS=2548                        │\n",
       "│   9993 │ 1       │ 1085713 │ G       │ A       │ .       │ PASS    │ AC=1;AN=5096;DP=44750;AF=0;EAS_AF=0;EUR_AF=0;AFR_AF=0;AMR_AF=0;SAS_AF=0;VT=SNP;NS=2548                        │\n",
       "│   9994 │ 1       │ 1085714 │ G       │ A       │ .       │ PASS    │ AC=16;AN=5096;DP=45116;AF=0;EAS_AF=0;EUR_AF=0;AFR_AF=0.01;AMR_AF=0;SAS_AF=0;VT=SNP;NS=2548                    │\n",
       "│   9995 │ 1       │ 1085727 │ G       │ A       │ .       │ PASS    │ AC=1;AN=5096;DP=49594;AF=0;EAS_AF=0;EUR_AF=0;AFR_AF=0;AMR_AF=0;SAS_AF=0;VT=SNP;NS=2548                        │\n",
       "│   9996 │ 1       │ 1085807 │ G       │ A       │ .       │ PASS    │ AC=1;AN=5096;DP=91239;AF=0;EAS_AF=0;EUR_AF=0;AFR_AF=0;AMR_AF=0;SAS_AF=0;VT=SNP;NS=2548                        │\n",
       "│   9997 │ 1       │ 1085824 │ G       │ T       │ .       │ PASS    │ AC=1;AN=5096;DP=108416;AF=0;EAS_AF=0;EUR_AF=0;AFR_AF=0;AMR_AF=0;SAS_AF=0;EX_TARGET;VT=SNP;NS=2548             │\n",
       "│   9998 │ 1       │ 1085849 │ C       │ T       │ .       │ PASS    │ AC=1;AN=5096;DP=136907;AF=0;EAS_AF=0;EUR_AF=0;AFR_AF=0;AMR_AF=0;SAS_AF=0;EX_TARGET;VT=SNP;NS=2548             │\n",
       "│   9999 │ 1       │ 1085862 │ C       │ T       │ .       │ PASS    │ AC=1;AN=5096;DP=151250;AF=0;EAS_AF=0;EUR_AF=0;AFR_AF=0;AMR_AF=0;SAS_AF=0;EX_TARGET;VT=SNP;NS=2548             │\n",
       "├────────┴─────────┴─────────┴─────────┴─────────┴─────────┴─────────┴───────────────────────────────────────────────────────────────────────────────────────────────────────────────┤\n",
       "│ ? rows (>9999 rows, 20 shown)                                                                                                                                            8 columns │\n",
       "└────────────────────────────────────────────────────────────────────────────────────────────────────────────────────────────────────────────────────────────────────────────────────┘"
      ]
     },
     "execution_count": 31,
     "metadata": {},
     "output_type": "execute_result"
    }
   ],
   "source": [
    "duckdb.sql(\"SELECT * FROM 'db/variants.parquet' ORDER BY CHROM, POS\")"
   ]
  },
  {
   "cell_type": "code",
   "execution_count": 23,
   "metadata": {},
   "outputs": [
    {
     "data": {
      "text/plain": [
       "┌─────────┬─────────┬─────────┬─────────┐\n",
       "│  CHROM  │   POS   │   REF   │   ALT   │\n",
       "│ varchar │  int64  │ varchar │ varchar │\n",
       "├─────────┼─────────┼─────────┼─────────┤\n",
       "│ 1       │   55365 │ A       │ G       │\n",
       "│ 1       │   55385 │ A       │ G       │\n",
       "│ 1       │   57053 │ A       │ T       │\n",
       "│ 1       │   61987 │ A       │ G       │\n",
       "│ 1       │   62017 │ A       │ G       │\n",
       "│ 1       │   66219 │ A       │ T       │\n",
       "│ 1       │   66259 │ A       │ T       │\n",
       "│ 1       │   66264 │ A       │ T       │\n",
       "│ 1       │   66269 │ A       │ T       │\n",
       "│ 1       │   66275 │ A       │ T       │\n",
       "│ ·       │     ·   │ ·       │ ·       │\n",
       "│ ·       │     ·   │ ·       │ ·       │\n",
       "│ ·       │     ·   │ ·       │ ·       │\n",
       "│ 1       │ 3351159 │ A       │ G       │\n",
       "│ 1       │ 3351868 │ A       │ C       │\n",
       "│ 1       │ 3351893 │ A       │ G       │\n",
       "│ 1       │ 3352321 │ A       │ G       │\n",
       "│ 1       │ 3352797 │ A       │ G       │\n",
       "│ 1       │ 3353146 │ A       │ C       │\n",
       "│ 1       │ 3353264 │ A       │ G       │\n",
       "│ 1       │ 3354593 │ A       │ G       │\n",
       "│ 1       │ 3354951 │ A       │ C       │\n",
       "│ 1       │ 3355027 │ A       │ AG      │\n",
       "├─────────┴─────────┴─────────┴─────────┤\n",
       "│     ? rows (>9999 rows, 20 shown)     │\n",
       "└───────────────────────────────────────┘"
      ]
     },
     "execution_count": 23,
     "metadata": {},
     "output_type": "execute_result"
    }
   ],
   "source": [
    "duckdb.sql(\"SELECT * FROM 'db/variants.parquet' WHERE REF='A' ORDER BY CHROM, POS\")"
   ]
  },
  {
   "cell_type": "markdown",
   "metadata": {},
   "source": [
    "À présent, essayons de faire plus compliqué en comptant le nombre de transitions et de transversions. C'est à dire, le nombre de combinaisons A>T, C>G etc ..."
   ]
  },
  {
   "cell_type": "code",
   "execution_count": 35,
   "metadata": {},
   "outputs": [
    {
     "data": {
      "text/plain": [
       "┌───────────┬──────────┐\n",
       "│    mut    │  count   │\n",
       "│ varchar[] │  int64   │\n",
       "├───────────┼──────────┤\n",
       "│ [A, G]    │ 24828822 │\n",
       "│ [C, G]    │  6315729 │\n",
       "│ [C, T]    │ 24782079 │\n",
       "│ [A, T]    │  5140035 │\n",
       "│ [A, C]    │  6086989 │\n",
       "│ [G, T]    │  6103978 │\n",
       "└───────────┴──────────┘"
      ]
     },
     "execution_count": 35,
     "metadata": {},
     "output_type": "execute_result"
    }
   ],
   "source": [
    "q = \"\"\"\n",
    "SELECT list_sort([ref,alt]) AS mut, COUNT(*) as count FROM 'db/variants.parquet' \n",
    "WHERE len(ref) = 1 AND len(alt)=1 GROUP BY mut\n",
    "\"\"\"\n",
    "\n",
    "duckdb.sql(q)"
   ]
  },
  {
   "cell_type": "markdown",
   "metadata": {},
   "source": [
    "Autres astuces\n",
    "==============\n",
    "Le partitionnement\n",
    "------------------\n",
    "Niveau performance, c'est déjà bluffant. Mais il existe différentes méthodes d'optimisation pour être plus performant suivant l'usage des données. Le partitionnement consiste à découper votre fichier parquet en plusieurs fichiers parquet depuis une ou plusieurs colonnes. Par exemple, je peux partitionner le fichier parquet variants.parquet par chromosomes. Si je dois chercher un variant sur le chromosome 8, je peux regarder uniquement dans le fichier correspondant. Inutile de parcourir les variants du chromosomes 2.\n",
    "\n",
    "Construisons une partition sur la colonne chromosome avec duckDB :"
   ]
  },
  {
   "cell_type": "code",
   "execution_count": 24,
   "metadata": {},
   "outputs": [],
   "source": [
    "duckdb.sql(\n",
    "    \"COPY (SELECT * FROM 'db/variants.parquet') TO 'db/chromosomes' (FORMAT PARQUET, PARTITION_BY (CHROM))\"\n",
    ")"
   ]
  },
  {
   "cell_type": "markdown",
   "metadata": {},
   "source": [
    "Après avoir exécuté cette requête, vous devriez avoir un dossier chromosomes contenant de nombreux fichiers triés par chromosomes.\n",
    "Pour sélectionner vos variants depuis ce dossier, il suffit d'utiliser le caractère étoile ou des expressions régulières pour sélectionner les sources de données souhaitées."
   ]
  },
  {
   "cell_type": "markdown",
   "metadata": {},
   "source": [
    "Dans l'exemple suivant, je sélectionne tous les variants à partir de tous les fichiers :"
   ]
  },
  {
   "cell_type": "code",
   "execution_count": 25,
   "metadata": {},
   "outputs": [
    {
     "data": {
      "text/plain": [
       "┌──────────┬─────────┬─────────┬─────────┐\n",
       "│   POS    │   REF   │   ALT   │  CHROM  │\n",
       "│  int64   │ varchar │ varchar │ varchar │\n",
       "├──────────┼─────────┼─────────┼─────────┤\n",
       "│ 35187340 │ A       │ G       │ 1       │\n",
       "│ 35187350 │ A       │ G       │ 1       │\n",
       "│ 35187373 │ A       │ G       │ 1       │\n",
       "│ 35187410 │ G       │ C       │ 1       │\n",
       "│ 35187479 │ A       │ C       │ 1       │\n",
       "│ 35187563 │ T       │ A       │ 1       │\n",
       "│ 35187588 │ G       │ A       │ 1       │\n",
       "│ 35187656 │ A       │ G       │ 1       │\n",
       "│ 35187661 │ G       │ A       │ 1       │\n",
       "│ 35187675 │ G       │ A       │ 1       │\n",
       "│     ·    │ ·       │ ·       │ ·       │\n",
       "│     ·    │ ·       │ ·       │ ·       │\n",
       "│     ·    │ ·       │ ·       │ ·       │\n",
       "│ 35573340 │ C       │ T       │ 1       │\n",
       "│ 35573398 │ C       │ T       │ 1       │\n",
       "│ 35573535 │ G       │ C       │ 1       │\n",
       "│ 35573536 │ G       │ T       │ 1       │\n",
       "│ 35573562 │ C       │ G       │ 1       │\n",
       "│ 35573617 │ G       │ C       │ 1       │\n",
       "│ 35573623 │ G       │ C       │ 1       │\n",
       "│ 35573640 │ G       │ C       │ 1       │\n",
       "│ 35573641 │ G       │ A       │ 1       │\n",
       "│ 35573669 │ C       │ A       │ 1       │\n",
       "├──────────┴─────────┴─────────┴─────────┤\n",
       "│     ? rows (>9999 rows, 20 shown)      │\n",
       "└────────────────────────────────────────┘"
      ]
     },
     "execution_count": 25,
     "metadata": {},
     "output_type": "execute_result"
    }
   ],
   "source": [
    "duckdb.sql(\"SELECT * FROM 'db/chromosomes/*/*.parquet'\")"
   ]
  },
  {
   "cell_type": "code",
   "execution_count": 27,
   "metadata": {},
   "outputs": [
    {
     "data": {
      "text/plain": [
       "┌─────────┬─────────┬─────────┬─────────┐\n",
       "│  CHROM  │   POS   │   REF   │   ALT   │\n",
       "│ varchar │  int64  │ varchar │ varchar │\n",
       "├─────────┼─────────┼─────────┼─────────┤\n",
       "│ 1       │   10416 │ CCCTAA  │ C       │\n",
       "│ 1       │   16103 │ T       │ G       │\n",
       "│ 1       │   17496 │ AC      │ A       │\n",
       "│ 1       │   51479 │ T       │ A       │\n",
       "│ 1       │   51898 │ C       │ A       │\n",
       "│ 1       │   51928 │ G       │ A       │\n",
       "│ 1       │   51954 │ G       │ C       │\n",
       "│ 1       │   54490 │ G       │ A       │\n",
       "│ 1       │   54669 │ C       │ T       │\n",
       "│ 1       │   54708 │ G       │ C       │\n",
       "│ ·       │     ·   │ ·       │ ·       │\n",
       "│ ·       │     ·   │ ·       │ ·       │\n",
       "│ ·       │     ·   │ ·       │ ·       │\n",
       "│ 1       │ 1085650 │ G       │ A       │\n",
       "│ 1       │ 1085653 │ G       │ A       │\n",
       "│ 1       │ 1085692 │ G       │ A       │\n",
       "│ 1       │ 1085713 │ G       │ A       │\n",
       "│ 1       │ 1085714 │ G       │ A       │\n",
       "│ 1       │ 1085727 │ G       │ A       │\n",
       "│ 1       │ 1085807 │ G       │ A       │\n",
       "│ 1       │ 1085824 │ G       │ T       │\n",
       "│ 1       │ 1085849 │ C       │ T       │\n",
       "│ 1       │ 1085862 │ C       │ T       │\n",
       "├─────────┴─────────┴─────────┴─────────┤\n",
       "│     ? rows (>9999 rows, 20 shown)     │\n",
       "└───────────────────────────────────────┘"
      ]
     },
     "execution_count": 27,
     "metadata": {},
     "output_type": "execute_result"
    }
   ],
   "source": [
    "duckdb.sql(\"SELECT * FROM 'db/variants.parquet'\")"
   ]
  },
  {
   "cell_type": "markdown",
   "metadata": {},
   "source": [
    "Notes, Flags, Tags\n",
    "----------------\n",
    "To be able to add notes, we have to: \n",
    "- Check if an info parquet file exists\n",
    "  - if not create it with a first entry\n",
    "  - If it does, check if index exists. If yes, modify values, if not, add line"
   ]
  },
  {
   "cell_type": "markdown",
   "metadata": {},
   "source": [
    "Prepare variables"
   ]
  },
  {
   "cell_type": "code",
   "execution_count": 12,
   "metadata": {},
   "outputs": [],
   "source": [
    "index = 12345\n",
    "flag = 1\n",
    "tag = \"overwritten_tag\"\n",
    "note = \"test_note\""
   ]
  },
  {
   "cell_type": "code",
   "execution_count": 13,
   "metadata": {},
   "outputs": [
    {
     "name": "stdout",
     "output_type": "stream",
     "text": [
      "add\n",
      "shape: (2, 4)\n",
      "┌───────┬──────┬─────────────────┬───────────┐\n",
      "│ index ┆ flag ┆ tag             ┆ note      │\n",
      "│ ---   ┆ ---  ┆ ---             ┆ ---       │\n",
      "│ i64   ┆ i64  ┆ str             ┆ str       │\n",
      "╞═══════╪══════╪═════════════════╪═══════════╡\n",
      "│ 1234  ┆ 1    ┆ test_tag        ┆ test_note │\n",
      "│ 12345 ┆ 1    ┆ overwritten_tag ┆ test_note │\n",
      "└───────┴──────┴─────────────────┴───────────┘\n"
     ]
    }
   ],
   "source": [
    "# Check for file\n",
    "import os\n",
    "filepath = \"db/info.parquet\"\n",
    "if not os.path.exists(filepath):\n",
    "    print(\"create\")\n",
    "    df = pl.DataFrame(\n",
    "        {\n",
    "            \"index\": [index],\n",
    "            \"flag\": [flag],\n",
    "            \"tag\": [tag],\n",
    "            \"note\": [note],\n",
    "        }\n",
    "    )\n",
    "    df.write_parquet(filepath)\n",
    "    print(df)\n",
    "\n",
    "else:\n",
    "    print(\"add\")\n",
    "    new_df = pl.DataFrame({\"index\": [index], \"flag\": [flag], \"tag\": [tag], \"note\": [note]})\n",
    "    old_df = pl.read_parquet(\"db/info.parquet\")\n",
    "\n",
    "    old_df_filtered = old_df.filter(~pl.col(\"index\").is_in(new_df[\"index\"]))\n",
    "    \n",
    "    # Concatenate the filtered old_df with new_df\n",
    "    combined_df = pl.concat([old_df_filtered, new_df])\n",
    "    \n",
    "    # Sort by index to maintain order (optional)\n",
    "    combined_df = combined_df.sort(\"index\")\n",
    "    \n",
    "    # Collect the result to a DataFrame (if needed)\n",
    "    combined_df.write_parquet(filepath)\n",
    "\n",
    "    print(combined_df)"
   ]
  }
 ],
 "metadata": {
  "kernelspec": {
   "display_name": "env",
   "language": "python",
   "name": "python3"
  },
  "language_info": {
   "codemirror_mode": {
    "name": "ipython",
    "version": 3
   },
   "file_extension": ".py",
   "mimetype": "text/x-python",
   "name": "python",
   "nbconvert_exporter": "python",
   "pygments_lexer": "ipython3",
   "version": "3.12.3"
  }
 },
 "nbformat": 4,
 "nbformat_minor": 2
}
